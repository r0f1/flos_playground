{
 "cells": [
  {
   "cell_type": "code",
   "execution_count": null,
   "metadata": {},
   "outputs": [],
   "source": [
    "from IPython.core.interactiveshell import InteractiveShell\n",
    "InteractiveShell.ast_node_interactivity = \"all\"\n",
    "\n",
    "import base64\n",
    "from datetime import datetime\n",
    "import io\n",
    "from pprint import pprint\n",
    "import time\n",
    "\n",
    "from dotenv import load_dotenv\n",
    "from openai import OpenAI\n",
    "import numpy as np\n",
    "from PIL import Image\n",
    "from skimage.io import imread, imsave\n",
    "import stackview\n",
    "from stackview._image_widget import _img_to_rgb\n",
    "\n",
    "_ = load_dotenv()"
   ]
  },
  {
   "cell_type": "code",
   "execution_count": null,
   "metadata": {},
   "outputs": [],
   "source": [
    "def numpy_to_bytestream(data):\n",
    "    image = Image.fromarray(data.astype(np.uint8)).convert(\"RGBA\")\n",
    "    bytes_io = io.BytesIO()\n",
    "    image.save(bytes_io, format=\"PNG\")\n",
    "    bytes_io.seek(0)\n",
    "    return bytes_io.read()\n",
    "\n",
    "def prompt_dall_e(prompt, model, width=1024, height=1024):\n",
    "    client = OpenAI()\n",
    "\n",
    "    response = client.images.generate(\n",
    "      prompt=prompt,\n",
    "      model=model,\n",
    "      n=1,\n",
    "      size=f\"{width}x{height}\"\n",
    "    )\n",
    "\n",
    "    image_url = response.data[0].url\n",
    "    image = imread(image_url)[::2, ::2]\n",
    "    return image\n",
    "\n",
    "def prompt_chatGPT(image, model):\n",
    "    rgb_image = _img_to_rgb(image)\n",
    "    byte_stream = numpy_to_bytestream(rgb_image)\n",
    "    base64_image = base64.b64encode(byte_stream).decode(\"utf-8\")\n",
    "\n",
    "    message = [{\"role\": \"user\", \"content\": [{\n",
    "        \"type\": \"image_url\",\n",
    "        \"image_url\": {\n",
    "            \"url\": f\"data:image/jpeg;base64,{base64_image}\"\n",
    "        }\n",
    "    }]}]\n",
    "            \n",
    "    client = OpenAI()\n",
    "    response = client.chat.completions.create(model=model, messages=message)\n",
    "    return response.choices[0].message.content\n",
    "\n",
    "def get_time():\n",
    "    return datetime.fromtimestamp(time.time()).strftime(\"%Y%m%d_%H%M%S_%f\")"
   ]
  },
  {
   "cell_type": "code",
   "execution_count": null,
   "metadata": {},
   "outputs": [],
   "source": [
    "image_filename = \"data/cat.png\"\n",
    "image = imread(image_filename)[...,:3]\n",
    "image.shape\n",
    "stackview.imshow(image)"
   ]
  },
  {
   "cell_type": "code",
   "execution_count": null,
   "metadata": {},
   "outputs": [],
   "source": [
    "for i in range(20):\n",
    "    description = prompt_chatGPT(image, model=\"gpt-4-vision-preview\")\n",
    "    pprint(description)\n",
    "    \n",
    "    image = prompt_dall_e(description, model=\"dall-e-3\")\n",
    "    imsave(f\"output/cat_{get_time()}.png\", image)\n",
    "    stackview.imshow(image)"
   ]
  }
 ],
 "metadata": {
  "kernelspec": {
   "display_name": ".venv",
   "language": "python",
   "name": "python3"
  },
  "language_info": {
   "codemirror_mode": {
    "name": "ipython",
    "version": 3
   },
   "file_extension": ".py",
   "mimetype": "text/x-python",
   "name": "python",
   "nbconvert_exporter": "python",
   "pygments_lexer": "ipython3",
   "version": "3.12.3"
  }
 },
 "nbformat": 4,
 "nbformat_minor": 2
}
