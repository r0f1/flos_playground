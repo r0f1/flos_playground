{
 "cells": [
  {
   "cell_type": "code",
   "execution_count": 1,
   "metadata": {},
   "outputs": [],
   "source": [
    "# Paper: https://onlinelibrary.wiley.com/doi/full/10.1002/sim.9234\n",
    "# Python Notebook: https://github.com/migariane/TutorialComputationalCausalInferenceEstimators/blob/main/PythonCodeBoxes.ipynb"
   ]
  },
  {
   "cell_type": "code",
   "execution_count": 2,
   "metadata": {},
   "outputs": [],
   "source": [
    "from IPython.core.interactiveshell import InteractiveShell\n",
    "InteractiveShell.ast_node_interactivity = \"all\"\n",
    "\n",
    "import pandas as pd\n",
    "import statsmodels.api as sm\n",
    "import statsmodels.formula.api as smf\n",
    "import marginaleffects"
   ]
  },
  {
   "cell_type": "code",
   "execution_count": 3,
   "metadata": {},
   "outputs": [
    {
     "data": {
      "text/html": [
       "<div>\n",
       "<style scoped>\n",
       "    .dataframe tbody tr th:only-of-type {\n",
       "        vertical-align: middle;\n",
       "    }\n",
       "\n",
       "    .dataframe tbody tr th {\n",
       "        vertical-align: top;\n",
       "    }\n",
       "\n",
       "    .dataframe thead th {\n",
       "        text-align: right;\n",
       "    }\n",
       "</style>\n",
       "<table border=\"1\" class=\"dataframe\">\n",
       "  <thead>\n",
       "    <tr style=\"text-align: right;\">\n",
       "      <th></th>\n",
       "      <th>carcinoma</th>\n",
       "      <th>age</th>\n",
       "      <th>sex</th>\n",
       "      <th>edu</th>\n",
       "      <th>death_d30</th>\n",
       "      <th>rhc</th>\n",
       "      <th>race</th>\n",
       "    </tr>\n",
       "  </thead>\n",
       "  <tbody>\n",
       "    <tr>\n",
       "      <th>0</th>\n",
       "      <td>Yes</td>\n",
       "      <td>70.250999</td>\n",
       "      <td>Male</td>\n",
       "      <td>12.000</td>\n",
       "      <td>0</td>\n",
       "      <td>No</td>\n",
       "      <td>White</td>\n",
       "    </tr>\n",
       "    <tr>\n",
       "      <th>1</th>\n",
       "      <td>No</td>\n",
       "      <td>78.179001</td>\n",
       "      <td>Female</td>\n",
       "      <td>12.000</td>\n",
       "      <td>0</td>\n",
       "      <td>Yes</td>\n",
       "      <td>White</td>\n",
       "    </tr>\n",
       "    <tr>\n",
       "      <th>2</th>\n",
       "      <td>Yes</td>\n",
       "      <td>46.091999</td>\n",
       "      <td>Female</td>\n",
       "      <td>14.070</td>\n",
       "      <td>0</td>\n",
       "      <td>Yes</td>\n",
       "      <td>White</td>\n",
       "    </tr>\n",
       "    <tr>\n",
       "      <th>3</th>\n",
       "      <td>No</td>\n",
       "      <td>75.332001</td>\n",
       "      <td>Female</td>\n",
       "      <td>9.000</td>\n",
       "      <td>0</td>\n",
       "      <td>No</td>\n",
       "      <td>White</td>\n",
       "    </tr>\n",
       "    <tr>\n",
       "      <th>4</th>\n",
       "      <td>No</td>\n",
       "      <td>67.910004</td>\n",
       "      <td>Male</td>\n",
       "      <td>9.945</td>\n",
       "      <td>1</td>\n",
       "      <td>Yes</td>\n",
       "      <td>White</td>\n",
       "    </tr>\n",
       "  </tbody>\n",
       "</table>\n",
       "</div>"
      ],
      "text/plain": [
       "  carcinoma        age     sex     edu  death_d30  rhc   race\n",
       "0       Yes  70.250999    Male  12.000          0   No  White\n",
       "1        No  78.179001  Female  12.000          0  Yes  White\n",
       "2       Yes  46.091999  Female  14.070          0  Yes  White\n",
       "3        No  75.332001  Female   9.000          0   No  White\n",
       "4        No  67.910004    Male   9.945          1  Yes  White"
      ]
     },
     "execution_count": 3,
     "metadata": {},
     "output_type": "execute_result"
    },
    {
     "data": {
      "text/plain": [
       "(5735, 7)"
      ]
     },
     "execution_count": 3,
     "metadata": {},
     "output_type": "execute_result"
    }
   ],
   "source": [
    "df = pd.read_csv(\"rhc.csv\", usecols=[\"rhc\", \"death_d30\", \"sex\", \"age\", \"edu\", \"race\", \"carcinoma\"])\n",
    "df.head()\n",
    "df.shape"
   ]
  },
  {
   "cell_type": "code",
   "execution_count": 4,
   "metadata": {},
   "outputs": [
    {
     "name": "stdout",
     "output_type": "stream",
     "text": [
      "                 Generalized Linear Model Regression Results                  \n",
      "==============================================================================\n",
      "Dep. Variable:              death_d30   No. Observations:                 5735\n",
      "Model:                            GLM   Df Residuals:                     5732\n",
      "Model Family:                Gaussian   Df Model:                            2\n",
      "Link Function:               Identity   Scale:                         0.22142\n",
      "Method:                          IRLS   Log-Likelihood:                -3812.9\n",
      "Date:                Sat, 01 Jun 2024   Deviance:                       1269.2\n",
      "Time:                        23:10:10   Pearson chi2:                 1.27e+03\n",
      "No. Iterations:                     3   Pseudo R-squ. (CS):           0.005767\n",
      "Covariance Type:            nonrobust                                         \n",
      "===============================================================================\n",
      "                  coef    std err          z      P>|z|      [0.025      0.975]\n",
      "-------------------------------------------------------------------------------\n",
      "Intercept       0.3049      0.010     29.354      0.000       0.285       0.325\n",
      "rhc[T.Yes]      0.0735      0.013      5.739      0.000       0.048       0.099\n",
      "sex[T.Male]     0.0027      0.013      0.219      0.826      -0.022       0.027\n",
      "===============================================================================\n",
      "Adjusted Regression Estimate: 0.07351733478680313\n"
     ]
    }
   ],
   "source": [
    "# Box 2: Adjusted Regression\n",
    "model = smf.glm(\"death_d30 ~ rhc + sex\", data=df).fit()\n",
    "print(model.summary())\n",
    "print(\"Adjusted Regression Estimate:\", model.params[\"rhc[T.Yes]\"])"
   ]
  },
  {
   "cell_type": "code",
   "execution_count": 5,
   "metadata": {},
   "outputs": [
    {
     "name": "stdout",
     "output_type": "stream",
     "text": [
      "                 Generalized Linear Model Regression Results                  \n",
      "==============================================================================\n",
      "Dep. Variable:              death_d30   No. Observations:                 5735\n",
      "Model:                            GLM   Df Residuals:                     5731\n",
      "Model Family:                Gaussian   Df Model:                            3\n",
      "Link Function:               Identity   Scale:                         0.22145\n",
      "Method:                          IRLS   Log-Likelihood:                -3812.7\n",
      "Date:                Sat, 01 Jun 2024   Deviance:                       1269.1\n",
      "Time:                        23:10:10   Pearson chi2:                 1.27e+03\n",
      "No. Iterations:                     3   Pseudo R-squ. (CS):           0.005829\n",
      "Covariance Type:            nonrobust                                         \n",
      "==========================================================================================\n",
      "                             coef    std err          z      P>|z|      [0.025      0.975]\n",
      "------------------------------------------------------------------------------------------\n",
      "Intercept                  0.3018      0.012     25.946      0.000       0.279       0.325\n",
      "rhc[T.Yes]                 0.0823      0.019      4.225      0.000       0.044       0.121\n",
      "sex[T.Male]                0.0086      0.016      0.541      0.588      -0.022       0.040\n",
      "rhc[T.Yes]:sex[T.Male]    -0.0155      0.026     -0.600      0.548      -0.066       0.035\n",
      "==========================================================================================\n"
     ]
    }
   ],
   "source": [
    "# Box 7-9: Parametric regression adjustment implementation of the g-formula\n",
    "model2 = smf.glm(\"death_d30 ~ rhc * sex\", data=df).fit()\n",
    "print(model2.summary())"
   ]
  },
  {
   "cell_type": "code",
   "execution_count": 6,
   "metadata": {},
   "outputs": [
    {
     "data": {
      "text/html": [
       "<div>\n",
       "<style scoped>\n",
       "    .dataframe tbody tr th:only-of-type {\n",
       "        vertical-align: middle;\n",
       "    }\n",
       "\n",
       "    .dataframe tbody tr th {\n",
       "        vertical-align: top;\n",
       "    }\n",
       "\n",
       "    .dataframe thead th {\n",
       "        text-align: right;\n",
       "    }\n",
       "</style>\n",
       "<table border=\"1\" class=\"dataframe\">\n",
       "  <thead>\n",
       "    <tr style=\"text-align: right;\">\n",
       "      <th></th>\n",
       "      <th>term</th>\n",
       "      <th>contrast</th>\n",
       "      <th>estimate</th>\n",
       "      <th>std_error</th>\n",
       "      <th>statistic</th>\n",
       "      <th>p_value</th>\n",
       "      <th>s_value</th>\n",
       "      <th>conf_low</th>\n",
       "      <th>conf_high</th>\n",
       "    </tr>\n",
       "  </thead>\n",
       "  <tbody>\n",
       "    <tr>\n",
       "      <th>0</th>\n",
       "      <td>rhc</td>\n",
       "      <td>mean(Yes) - mean(No)</td>\n",
       "      <td>0.073692</td>\n",
       "      <td>0.012813</td>\n",
       "      <td>5.75128</td>\n",
       "      <td>8.857017e-09</td>\n",
       "      <td>26.750532</td>\n",
       "      <td>0.048579</td>\n",
       "      <td>0.098805</td>\n",
       "    </tr>\n",
       "  </tbody>\n",
       "</table>\n",
       "</div>"
      ],
      "text/plain": [
       "  term              contrast  estimate  std_error  statistic       p_value  \\\n",
       "0  rhc  mean(Yes) - mean(No)  0.073692   0.012813    5.75128  8.857017e-09   \n",
       "\n",
       "     s_value  conf_low  conf_high  \n",
       "0  26.750532  0.048579   0.098805  "
      ]
     },
     "execution_count": 6,
     "metadata": {},
     "output_type": "execute_result"
    }
   ],
   "source": [
    "marginaleffects.avg_comparisons(model2, variables=\"rhc\").to_pandas()"
   ]
  },
  {
   "cell_type": "code",
   "execution_count": 7,
   "metadata": {},
   "outputs": [
    {
     "name": "stdout",
     "output_type": "stream",
     "text": [
      "                 Generalized Linear Model Regression Results                  \n",
      "==============================================================================\n",
      "Dep. Variable:              death_d30   No. Observations:                 5735\n",
      "Model:                            GLM   Df Residuals:                     5719\n",
      "Model Family:                Binomial   Df Model:                           15\n",
      "Link Function:                  Logit   Scale:                          1.0000\n",
      "Method:                          IRLS   Log-Likelihood:                -3561.6\n",
      "Date:                Sat, 01 Jun 2024   Deviance:                       7123.2\n",
      "Time:                        23:10:10   Pearson chi2:                 5.72e+03\n",
      "No. Iterations:                     4   Pseudo R-squ. (CS):            0.03198\n",
      "Covariance Type:            nonrobust                                         \n",
      "==================================================================================================\n",
      "                                     coef    std err          z      P>|z|      [0.025      0.975]\n",
      "--------------------------------------------------------------------------------------------------\n",
      "Intercept                         -1.0278      0.256     -4.012      0.000      -1.530      -0.526\n",
      "rhc[T.Yes]                         0.4949      0.421      1.175      0.240      -0.330       1.320\n",
      "sex[T.Male]                        0.0775      0.075      1.040      0.298      -0.069       0.224\n",
      "C(race)[T.Other]                   0.1672      0.174      0.959      0.337      -0.174       0.509\n",
      "C(race)[T.White]                  -0.1615      0.102     -1.576      0.115      -0.362       0.039\n",
      "C(carcinoma)[T.No]                -0.7764      0.133     -5.833      0.000      -1.037      -0.516\n",
      "C(carcinoma)[T.Yes]               -0.2362      0.150     -1.576      0.115      -0.530       0.058\n",
      "rhc[T.Yes]:sex[T.Male]            -0.1208      0.118     -1.027      0.304      -0.351       0.110\n",
      "rhc[T.Yes]:C(race)[T.Other]       -0.1251      0.274     -0.456      0.648      -0.663       0.413\n",
      "rhc[T.Yes]:C(race)[T.White]        0.1561      0.166      0.941      0.347      -0.169       0.481\n",
      "rhc[T.Yes]:C(carcinoma)[T.No]      0.2400      0.231      1.039      0.299      -0.213       0.693\n",
      "rhc[T.Yes]:C(carcinoma)[T.Yes]     0.2215      0.260      0.851      0.395      -0.289       0.732\n",
      "age                                0.0125      0.002      5.520      0.000       0.008       0.017\n",
      "rhc[T.Yes]:age                     0.0019      0.004      0.498      0.619      -0.006       0.009\n",
      "edu                                0.0095      0.012      0.788      0.430      -0.014       0.033\n",
      "rhc[T.Yes]:edu                    -0.0427      0.019     -2.255      0.024      -0.080      -0.006\n",
      "==================================================================================================\n"
     ]
    }
   ],
   "source": [
    "# Box 10-12: Parametric multivariable regression adjustment implementation of the g-formula\n",
    "formula = \"death_d30 ~ rhc + sex + age + edu + C(race) + C(carcinoma) + \" \\\n",
    "          \"rhc:sex + rhc:age + rhc:edu + rhc:C(race) + rhc:C(carcinoma)\"\n",
    "f = sm.families.family.Binomial()\n",
    "model3 = smf.glm(formula, data=df, family=f).fit()\n",
    "print(model3.summary())"
   ]
  },
  {
   "cell_type": "code",
   "execution_count": 8,
   "metadata": {},
   "outputs": [
    {
     "data": {
      "text/html": [
       "<div>\n",
       "<style scoped>\n",
       "    .dataframe tbody tr th:only-of-type {\n",
       "        vertical-align: middle;\n",
       "    }\n",
       "\n",
       "    .dataframe tbody tr th {\n",
       "        vertical-align: top;\n",
       "    }\n",
       "\n",
       "    .dataframe thead th {\n",
       "        text-align: right;\n",
       "    }\n",
       "</style>\n",
       "<table border=\"1\" class=\"dataframe\">\n",
       "  <thead>\n",
       "    <tr style=\"text-align: right;\">\n",
       "      <th></th>\n",
       "      <th>term</th>\n",
       "      <th>contrast</th>\n",
       "      <th>estimate</th>\n",
       "      <th>std_error</th>\n",
       "      <th>statistic</th>\n",
       "      <th>p_value</th>\n",
       "      <th>s_value</th>\n",
       "      <th>conf_low</th>\n",
       "      <th>conf_high</th>\n",
       "    </tr>\n",
       "  </thead>\n",
       "  <tbody>\n",
       "    <tr>\n",
       "      <th>0</th>\n",
       "      <td>rhc</td>\n",
       "      <td>mean(Yes) - mean(No)</td>\n",
       "      <td>0.083929</td>\n",
       "      <td>0.012862</td>\n",
       "      <td>6.525312</td>\n",
       "      <td>6.786016e-11</td>\n",
       "      <td>33.778644</td>\n",
       "      <td>0.05872</td>\n",
       "      <td>0.109138</td>\n",
       "    </tr>\n",
       "  </tbody>\n",
       "</table>\n",
       "</div>"
      ],
      "text/plain": [
       "  term              contrast  estimate  std_error  statistic       p_value  \\\n",
       "0  rhc  mean(Yes) - mean(No)  0.083929   0.012862   6.525312  6.786016e-11   \n",
       "\n",
       "     s_value  conf_low  conf_high  \n",
       "0  33.778644   0.05872   0.109138  "
      ]
     },
     "execution_count": 8,
     "metadata": {},
     "output_type": "execute_result"
    }
   ],
   "source": [
    "marginaleffects.avg_comparisons(model3, variables=\"rhc\").to_pandas()"
   ]
  }
 ],
 "metadata": {
  "kernelspec": {
   "display_name": ".venv",
   "language": "python",
   "name": "python3"
  },
  "language_info": {
   "codemirror_mode": {
    "name": "ipython",
    "version": 3
   },
   "file_extension": ".py",
   "mimetype": "text/x-python",
   "name": "python",
   "nbconvert_exporter": "python",
   "pygments_lexer": "ipython3",
   "version": "3.12.3"
  }
 },
 "nbformat": 4,
 "nbformat_minor": 2
}
