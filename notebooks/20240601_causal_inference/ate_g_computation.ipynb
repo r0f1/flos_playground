{
 "cells": [
  {
   "cell_type": "code",
   "execution_count": 1,
   "metadata": {},
   "outputs": [],
   "source": [
    "# https://marginaleffects.com/vignettes/gcomputation.html"
   ]
  },
  {
   "cell_type": "code",
   "execution_count": 2,
   "metadata": {},
   "outputs": [],
   "source": [
    "from IPython.core.interactiveshell import InteractiveShell\n",
    "InteractiveShell.ast_node_interactivity = \"all\"\n",
    "\n",
    "import pandas as pd\n",
    "import statsmodels.formula.api as smf\n",
    "import marginaleffects"
   ]
  },
  {
   "cell_type": "code",
   "execution_count": 3,
   "metadata": {},
   "outputs": [
    {
     "data": {
      "text/html": [
       "<div>\n",
       "<style scoped>\n",
       "    .dataframe tbody tr th:only-of-type {\n",
       "        vertical-align: middle;\n",
       "    }\n",
       "\n",
       "    .dataframe tbody tr th {\n",
       "        vertical-align: top;\n",
       "    }\n",
       "\n",
       "    .dataframe thead th {\n",
       "        text-align: right;\n",
       "    }\n",
       "</style>\n",
       "<table border=\"1\" class=\"dataframe\">\n",
       "  <thead>\n",
       "    <tr style=\"text-align: right;\">\n",
       "      <th></th>\n",
       "      <th>qsmk</th>\n",
       "      <th>sex</th>\n",
       "      <th>age</th>\n",
       "      <th>race</th>\n",
       "      <th>education</th>\n",
       "      <th>wt71</th>\n",
       "      <th>wt82_71</th>\n",
       "      <th>smokeintensity</th>\n",
       "      <th>smokeyrs</th>\n",
       "      <th>active</th>\n",
       "      <th>exercise</th>\n",
       "    </tr>\n",
       "  </thead>\n",
       "  <tbody>\n",
       "    <tr>\n",
       "      <th>0</th>\n",
       "      <td>0</td>\n",
       "      <td>0</td>\n",
       "      <td>42</td>\n",
       "      <td>1</td>\n",
       "      <td>1</td>\n",
       "      <td>79.04</td>\n",
       "      <td>-10.093960</td>\n",
       "      <td>30</td>\n",
       "      <td>29</td>\n",
       "      <td>0</td>\n",
       "      <td>2</td>\n",
       "    </tr>\n",
       "    <tr>\n",
       "      <th>1</th>\n",
       "      <td>0</td>\n",
       "      <td>0</td>\n",
       "      <td>36</td>\n",
       "      <td>0</td>\n",
       "      <td>2</td>\n",
       "      <td>58.63</td>\n",
       "      <td>2.604970</td>\n",
       "      <td>20</td>\n",
       "      <td>24</td>\n",
       "      <td>0</td>\n",
       "      <td>0</td>\n",
       "    </tr>\n",
       "    <tr>\n",
       "      <th>2</th>\n",
       "      <td>0</td>\n",
       "      <td>1</td>\n",
       "      <td>56</td>\n",
       "      <td>1</td>\n",
       "      <td>2</td>\n",
       "      <td>56.81</td>\n",
       "      <td>9.414486</td>\n",
       "      <td>20</td>\n",
       "      <td>26</td>\n",
       "      <td>0</td>\n",
       "      <td>2</td>\n",
       "    </tr>\n",
       "    <tr>\n",
       "      <th>3</th>\n",
       "      <td>0</td>\n",
       "      <td>0</td>\n",
       "      <td>68</td>\n",
       "      <td>1</td>\n",
       "      <td>1</td>\n",
       "      <td>59.42</td>\n",
       "      <td>4.990117</td>\n",
       "      <td>3</td>\n",
       "      <td>53</td>\n",
       "      <td>1</td>\n",
       "      <td>2</td>\n",
       "    </tr>\n",
       "    <tr>\n",
       "      <th>4</th>\n",
       "      <td>0</td>\n",
       "      <td>0</td>\n",
       "      <td>40</td>\n",
       "      <td>0</td>\n",
       "      <td>2</td>\n",
       "      <td>87.09</td>\n",
       "      <td>4.989251</td>\n",
       "      <td>20</td>\n",
       "      <td>19</td>\n",
       "      <td>1</td>\n",
       "      <td>1</td>\n",
       "    </tr>\n",
       "  </tbody>\n",
       "</table>\n",
       "</div>"
      ],
      "text/plain": [
       "   qsmk  sex  age  race  education   wt71    wt82_71  smokeintensity  \\\n",
       "0     0    0   42     1          1  79.04 -10.093960              30   \n",
       "1     0    0   36     0          2  58.63   2.604970              20   \n",
       "2     0    1   56     1          2  56.81   9.414486              20   \n",
       "3     0    0   68     1          1  59.42   4.990117               3   \n",
       "4     0    0   40     0          2  87.09   4.989251              20   \n",
       "\n",
       "   smokeyrs  active  exercise  \n",
       "0        29       0         2  \n",
       "1        24       0         0  \n",
       "2        26       0         2  \n",
       "3        53       1         2  \n",
       "4        19       1         1  "
      ]
     },
     "execution_count": 3,
     "metadata": {},
     "output_type": "execute_result"
    },
    {
     "data": {
      "text/plain": [
       "(1566, 11)"
      ]
     },
     "execution_count": 3,
     "metadata": {},
     "output_type": "execute_result"
    }
   ],
   "source": [
    "cols = [\"wt82_71\", \"qsmk\", \"sex\", \"race\", \"age\", \"education\", \"smokeintensity\", \"smokeyrs\", \"exercise\", \"active\", \"wt71\"]\n",
    "\n",
    "df = pd.read_csv(\"nhefs.csv\", usecols=cols).dropna()\n",
    "df.head()\n",
    "df.shape"
   ]
  },
  {
   "cell_type": "markdown",
   "metadata": {},
   "source": [
    "## Estimate causal effect of smoking cessitation on dependent variable"
   ]
  },
  {
   "cell_type": "code",
   "execution_count": 4,
   "metadata": {},
   "outputs": [],
   "source": [
    "# We want to estimate the effect of a binary treatment X on outcome Y, but there is a confounding variable W. \n",
    "# We can use standardization with the parametric g-formula to handle this. Roughly speaking, the procedure is as \n",
    "# follows:\n",
    "\n",
    "# 1. Use the observed data to fit a regression model with Y as outcome, X as treatment, and W as control variable\n",
    "#    (with perhaps some polynomials and/or interactions if there are multiple control variables).\n",
    "# 2. Create a new dataset exactly identical to the original data, but where X = 1 in every row.\n",
    "# 3. Create a new dataset exactly identical to the original data, but where X = 0 in every row.\n",
    "# 4. Use the model from Step 1 to compute adjusted predictions in the two counterfactual datasets from Steps 2 and 3.\n",
    "# 5. The quantity of interest is the difference between the means of adjusted predictions in the two counterfactual \n",
    "#    datasets.\n",
    "\n",
    "# This is equivalent to computing an \"Average Contrast\", in which the value of moves from 0 to 1. "
   ]
  },
  {
   "cell_type": "code",
   "execution_count": 5,
   "metadata": {},
   "outputs": [
    {
     "name": "stdout",
     "output_type": "stream",
     "text": [
      "                            OLS Regression Results                            \n",
      "==============================================================================\n",
      "Dep. Variable:                wt82_71   R-squared:                       0.148\n",
      "Model:                            OLS   Adj. R-squared:                  0.137\n",
      "Method:                 Least Squares   F-statistic:                     13.45\n",
      "Date:                Sat, 01 Jun 2024   Prob (F-statistic):           1.47e-41\n",
      "Time:                        19:19:02   Log-Likelihood:                -5328.6\n",
      "No. Observations:                1566   AIC:                         1.070e+04\n",
      "Df Residuals:                    1545   BIC:                         1.081e+04\n",
      "Df Model:                          20                                         \n",
      "Covariance Type:            nonrobust                                         \n",
      "==========================================================================================\n",
      "                             coef    std err          t      P>|t|      [0.025      0.975]\n",
      "------------------------------------------------------------------------------------------\n",
      "Intercept                 -1.5882      4.313     -0.368      0.713     -10.048       6.872\n",
      "C(education)[T.2]          0.7904      0.607      1.302      0.193      -0.400       1.981\n",
      "C(education)[T.3]          0.5563      0.556      1.000      0.317      -0.534       1.647\n",
      "C(education)[T.4]          1.4916      0.832      1.792      0.073      -0.141       3.124\n",
      "C(education)[T.5]         -0.1950      0.741     -0.263      0.793      -1.649       1.259\n",
      "C(exercise)[T.1]           0.2960      0.535      0.553      0.580      -0.754       1.346\n",
      "C(exercise)[T.2]           0.3539      0.559      0.633      0.527      -0.742       1.450\n",
      "C(active)[T.1]            -0.9476      0.410     -2.312      0.021      -1.752      -0.143\n",
      "C(active)[T.2]            -0.2614      0.685     -0.382      0.703      -1.604       1.081\n",
      "qsmk                       2.5596      0.809      3.163      0.002       0.972       4.147\n",
      "sex                       -1.4303      0.469     -3.050      0.002      -2.350      -0.510\n",
      "race                       0.5601      0.582      0.963      0.336      -0.581       1.701\n",
      "age                        0.3596      0.163      2.202      0.028       0.039       0.680\n",
      "pow(age, 2)               -0.0061      0.002     -3.534      0.000      -0.009      -0.003\n",
      "smokeintensity             0.0491      0.052      0.950      0.342      -0.052       0.151\n",
      "pow(smokeintensity, 2)    -0.0010      0.001     -1.056      0.291      -0.003       0.001\n",
      "smokeyrs                   0.1344      0.092      1.465      0.143      -0.046       0.314\n",
      "pow(smokeyrs, 2)          -0.0019      0.002     -1.209      0.227      -0.005       0.001\n",
      "wt71                       0.0455      0.083      0.546      0.585      -0.118       0.209\n",
      "pow(wt71, 2)              -0.0010      0.001     -1.840      0.066      -0.002    6.39e-05\n",
      "qsmk:smokeintensity        0.0467      0.035      1.328      0.184      -0.022       0.116\n",
      "==============================================================================\n",
      "Omnibus:                      201.687   Durbin-Watson:                   2.008\n",
      "Prob(Omnibus):                  0.000   Jarque-Bera (JB):             1022.968\n",
      "Skew:                           0.492   Prob(JB):                    7.34e-223\n",
      "Kurtosis:                       6.835   Cond. No.                     1.44e+05\n",
      "==============================================================================\n",
      "\n",
      "Notes:\n",
      "[1] Standard Errors assume that the covariance matrix of the errors is correctly specified.\n",
      "[2] The condition number is large, 1.44e+05. This might indicate that there are\n",
      "strong multicollinearity or other numerical problems.\n"
     ]
    }
   ],
   "source": [
    "formula = \"wt82_71 ~ qsmk + sex + race + age + pow(age,2) + C(education) + \\\n",
    "    smokeintensity + pow(smokeintensity,2) + smokeyrs + \\\n",
    "    pow(smokeyrs,2) + C(exercise) + C(active) + wt71 + \\\n",
    "    pow(wt71,2) + qsmk*smokeintensity\"\n",
    "\n",
    "model = smf.ols(formula, data=df).fit()\n",
    "print(model.summary())"
   ]
  },
  {
   "cell_type": "code",
   "execution_count": 6,
   "metadata": {},
   "outputs": [
    {
     "data": {
      "text/html": [
       "<div>\n",
       "<style scoped>\n",
       "    .dataframe tbody tr th:only-of-type {\n",
       "        vertical-align: middle;\n",
       "    }\n",
       "\n",
       "    .dataframe tbody tr th {\n",
       "        vertical-align: top;\n",
       "    }\n",
       "\n",
       "    .dataframe thead th {\n",
       "        text-align: right;\n",
       "    }\n",
       "</style>\n",
       "<table border=\"1\" class=\"dataframe\">\n",
       "  <thead>\n",
       "    <tr style=\"text-align: right;\">\n",
       "      <th></th>\n",
       "      <th>term</th>\n",
       "      <th>contrast</th>\n",
       "      <th>estimate</th>\n",
       "      <th>std_error</th>\n",
       "      <th>statistic</th>\n",
       "      <th>p_value</th>\n",
       "      <th>s_value</th>\n",
       "      <th>conf_low</th>\n",
       "      <th>conf_high</th>\n",
       "    </tr>\n",
       "  </thead>\n",
       "  <tbody>\n",
       "    <tr>\n",
       "      <th>0</th>\n",
       "      <td>qsmk</td>\n",
       "      <td>mean(True) - mean(False)</td>\n",
       "      <td>3.517374</td>\n",
       "      <td>0.440282</td>\n",
       "      <td>7.98892</td>\n",
       "      <td>1.332268e-15</td>\n",
       "      <td>49.415037</td>\n",
       "      <td>2.654438</td>\n",
       "      <td>4.38031</td>\n",
       "    </tr>\n",
       "  </tbody>\n",
       "</table>\n",
       "</div>"
      ],
      "text/plain": [
       "   term                  contrast  estimate  std_error  statistic  \\\n",
       "0  qsmk  mean(True) - mean(False)  3.517374   0.440282    7.98892   \n",
       "\n",
       "        p_value    s_value  conf_low  conf_high  \n",
       "0  1.332268e-15  49.415037  2.654438    4.38031  "
      ]
     },
     "execution_count": 6,
     "metadata": {},
     "output_type": "execute_result"
    }
   ],
   "source": [
    "# qsmk is a binary measure of smoking cessation\n",
    "cmp = marginaleffects.avg_comparisons(model, variables={\"qsmk\" : [0,1]}).to_pandas()\n",
    "cmp"
   ]
  },
  {
   "cell_type": "code",
   "execution_count": 7,
   "metadata": {},
   "outputs": [
    {
     "data": {
      "text/plain": [
       "3.5173742008854774"
      ]
     },
     "execution_count": 7,
     "metadata": {},
     "output_type": "execute_result"
    }
   ],
   "source": [
    "# Same calculation\n",
    "model.predict(df.assign(qsmk=1)).mean() - model.predict(df.assign(qsmk=0)).mean()"
   ]
  },
  {
   "cell_type": "markdown",
   "metadata": {},
   "source": [
    "## More details"
   ]
  },
  {
   "cell_type": "code",
   "execution_count": 8,
   "metadata": {},
   "outputs": [
    {
     "data": {
      "text/html": [
       "<div>\n",
       "<style scoped>\n",
       "    .dataframe tbody tr th:only-of-type {\n",
       "        vertical-align: middle;\n",
       "    }\n",
       "\n",
       "    .dataframe tbody tr th {\n",
       "        vertical-align: top;\n",
       "    }\n",
       "\n",
       "    .dataframe thead th {\n",
       "        text-align: right;\n",
       "    }\n",
       "</style>\n",
       "<table border=\"1\" class=\"dataframe\">\n",
       "  <thead>\n",
       "    <tr style=\"text-align: right;\">\n",
       "      <th></th>\n",
       "      <th>rowid</th>\n",
       "      <th>estimate</th>\n",
       "      <th>std_error</th>\n",
       "      <th>statistic</th>\n",
       "      <th>p_value</th>\n",
       "      <th>s_value</th>\n",
       "      <th>conf_low</th>\n",
       "      <th>conf_high</th>\n",
       "      <th>qsmk</th>\n",
       "      <th>sex</th>\n",
       "      <th>age</th>\n",
       "      <th>race</th>\n",
       "      <th>education</th>\n",
       "      <th>wt71</th>\n",
       "      <th>wt82_71</th>\n",
       "      <th>smokeintensity</th>\n",
       "      <th>smokeyrs</th>\n",
       "      <th>active</th>\n",
       "      <th>exercise</th>\n",
       "    </tr>\n",
       "  </thead>\n",
       "  <tbody>\n",
       "    <tr>\n",
       "      <th>0</th>\n",
       "      <td>0</td>\n",
       "      <td>4.143747</td>\n",
       "      <td>0.791779</td>\n",
       "      <td>5.233462</td>\n",
       "      <td>1.663638e-07</td>\n",
       "      <td>22.519155</td>\n",
       "      <td>2.591888</td>\n",
       "      <td>5.695606</td>\n",
       "      <td>0</td>\n",
       "      <td>0</td>\n",
       "      <td>42</td>\n",
       "      <td>1</td>\n",
       "      <td>1</td>\n",
       "      <td>79.04</td>\n",
       "      <td>-10.093960</td>\n",
       "      <td>30</td>\n",
       "      <td>29</td>\n",
       "      <td>0</td>\n",
       "      <td>2</td>\n",
       "    </tr>\n",
       "    <tr>\n",
       "      <th>1</th>\n",
       "      <td>1</td>\n",
       "      <td>6.328048</td>\n",
       "      <td>0.687164</td>\n",
       "      <td>9.208932</td>\n",
       "      <td>0.000000e+00</td>\n",
       "      <td>inf</td>\n",
       "      <td>4.981231</td>\n",
       "      <td>7.674865</td>\n",
       "      <td>0</td>\n",
       "      <td>0</td>\n",
       "      <td>36</td>\n",
       "      <td>0</td>\n",
       "      <td>2</td>\n",
       "      <td>58.63</td>\n",
       "      <td>2.604970</td>\n",
       "      <td>20</td>\n",
       "      <td>24</td>\n",
       "      <td>0</td>\n",
       "      <td>0</td>\n",
       "    </tr>\n",
       "    <tr>\n",
       "      <th>2</th>\n",
       "      <td>2</td>\n",
       "      <td>1.980843</td>\n",
       "      <td>0.828724</td>\n",
       "      <td>2.390231</td>\n",
       "      <td>1.683779e-02</td>\n",
       "      <td>5.892153</td>\n",
       "      <td>0.356573</td>\n",
       "      <td>3.605113</td>\n",
       "      <td>0</td>\n",
       "      <td>1</td>\n",
       "      <td>56</td>\n",
       "      <td>1</td>\n",
       "      <td>2</td>\n",
       "      <td>56.81</td>\n",
       "      <td>9.414486</td>\n",
       "      <td>20</td>\n",
       "      <td>26</td>\n",
       "      <td>0</td>\n",
       "      <td>2</td>\n",
       "    </tr>\n",
       "    <tr>\n",
       "      <th>3</th>\n",
       "      <td>3</td>\n",
       "      <td>-4.064697</td>\n",
       "      <td>1.064558</td>\n",
       "      <td>-3.818200</td>\n",
       "      <td>1.344288e-04</td>\n",
       "      <td>12.860871</td>\n",
       "      <td>-6.151194</td>\n",
       "      <td>-1.978201</td>\n",
       "      <td>0</td>\n",
       "      <td>0</td>\n",
       "      <td>68</td>\n",
       "      <td>1</td>\n",
       "      <td>1</td>\n",
       "      <td>59.42</td>\n",
       "      <td>4.990117</td>\n",
       "      <td>3</td>\n",
       "      <td>53</td>\n",
       "      <td>1</td>\n",
       "      <td>2</td>\n",
       "    </tr>\n",
       "    <tr>\n",
       "      <th>4</th>\n",
       "      <td>4</td>\n",
       "      <td>2.281337</td>\n",
       "      <td>0.655139</td>\n",
       "      <td>3.482221</td>\n",
       "      <td>4.972728e-04</td>\n",
       "      <td>10.973675</td>\n",
       "      <td>0.997289</td>\n",
       "      <td>3.565385</td>\n",
       "      <td>0</td>\n",
       "      <td>0</td>\n",
       "      <td>40</td>\n",
       "      <td>0</td>\n",
       "      <td>2</td>\n",
       "      <td>87.09</td>\n",
       "      <td>4.989251</td>\n",
       "      <td>20</td>\n",
       "      <td>19</td>\n",
       "      <td>1</td>\n",
       "      <td>1</td>\n",
       "    </tr>\n",
       "  </tbody>\n",
       "</table>\n",
       "</div>"
      ],
      "text/plain": [
       "   rowid  estimate  std_error  statistic       p_value    s_value  conf_low  \\\n",
       "0      0  4.143747   0.791779   5.233462  1.663638e-07  22.519155  2.591888   \n",
       "1      1  6.328048   0.687164   9.208932  0.000000e+00        inf  4.981231   \n",
       "2      2  1.980843   0.828724   2.390231  1.683779e-02   5.892153  0.356573   \n",
       "3      3 -4.064697   1.064558  -3.818200  1.344288e-04  12.860871 -6.151194   \n",
       "4      4  2.281337   0.655139   3.482221  4.972728e-04  10.973675  0.997289   \n",
       "\n",
       "   conf_high  qsmk  sex  age  race  education   wt71    wt82_71  \\\n",
       "0   5.695606     0    0   42     1          1  79.04 -10.093960   \n",
       "1   7.674865     0    0   36     0          2  58.63   2.604970   \n",
       "2   3.605113     0    1   56     1          2  56.81   9.414486   \n",
       "3  -1.978201     0    0   68     1          1  59.42   4.990117   \n",
       "4   3.565385     0    0   40     0          2  87.09   4.989251   \n",
       "\n",
       "   smokeintensity  smokeyrs  active  exercise  \n",
       "0              30        29       0         2  \n",
       "1              20        24       0         0  \n",
       "2              20        26       0         2  \n",
       "3               3        53       1         2  \n",
       "4              20        19       1         1  "
      ]
     },
     "execution_count": 8,
     "metadata": {},
     "output_type": "execute_result"
    },
    {
     "data": {
      "text/plain": [
       "2.6382997865654874"
      ]
     },
     "execution_count": 8,
     "metadata": {},
     "output_type": "execute_result"
    }
   ],
   "source": [
    "# average predicted outcome in the original data\n",
    "p = marginaleffects.predictions(model).to_pandas()\n",
    "p.head()\n",
    "p[\"estimate\"].mean()"
   ]
  },
  {
   "cell_type": "code",
   "execution_count": 9,
   "metadata": {},
   "outputs": [
    {
     "data": {
      "text/plain": [
       "qsmk\n",
       "0    1.756213\n",
       "1    5.273587\n",
       "Name: estimate, dtype: float64"
      ]
     },
     "execution_count": 9,
     "metadata": {},
     "output_type": "execute_result"
    }
   ],
   "source": [
    "# average predicted outcome in the two counterfactual datasets\n",
    "newdata = marginaleffects.datagrid(qsmk=[0,1], grid_type=\"counterfactual\")\n",
    "p = marginaleffects.predictions(model, newdata=newdata).to_pandas()\n",
    "p.groupby(\"qsmk\")[\"estimate\"].mean()"
   ]
  },
  {
   "cell_type": "code",
   "execution_count": 10,
   "metadata": {},
   "outputs": [
    {
     "data": {
      "text/plain": [
       "2.6382997865654874"
      ]
     },
     "execution_count": 10,
     "metadata": {},
     "output_type": "execute_result"
    },
    {
     "data": {
      "text/plain": [
       "1.7562131154684735"
      ]
     },
     "execution_count": 10,
     "metadata": {},
     "output_type": "execute_result"
    },
    {
     "data": {
      "text/plain": [
       "5.273587316353951"
      ]
     },
     "execution_count": 10,
     "metadata": {},
     "output_type": "execute_result"
    },
    {
     "data": {
      "text/plain": [
       "3.5173742008854774"
      ]
     },
     "execution_count": 10,
     "metadata": {},
     "output_type": "execute_result"
    }
   ],
   "source": [
    "# Calculation by hand\n",
    "# also works, but no standard error or confidence interval\n",
    "model.predict(df).mean()\n",
    "model.predict(df.assign(qsmk=0)).mean()\n",
    "model.predict(df.assign(qsmk=1)).mean()\n",
    "model.predict(df.assign(qsmk=1)).mean() - model.predict(df.assign(qsmk=0)).mean()"
   ]
  }
 ],
 "metadata": {
  "language_info": {
   "name": "python"
  }
 },
 "nbformat": 4,
 "nbformat_minor": 2
}
